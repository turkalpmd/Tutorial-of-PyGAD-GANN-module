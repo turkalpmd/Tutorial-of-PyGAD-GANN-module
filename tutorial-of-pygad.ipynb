{
 "cells": [
  {
   "cell_type": "markdown",
   "id": "243ed62e",
   "metadata": {
    "papermill": {
     "duration": 0.012486,
     "end_time": "2022-07-20T23:47:11.031470",
     "exception": false,
     "start_time": "2022-07-20T23:47:11.018984",
     "status": "completed"
    },
    "tags": []
   },
   "source": [
    "<a ><img src=\"https://i.ibb.co/hd2LFFt/Ekran-Resmi-2022-07-20-22-35-22.png\" alt=\"Ekran-Resmi-2022-07-20-22-35-22\" border=\"0\"></a>"
   ]
  },
  {
   "cell_type": "code",
   "execution_count": 1,
   "id": "fc25dd9a",
   "metadata": {
    "_cell_guid": "b1076dfc-b9ad-4769-8c92-a6c4dae69d19",
    "_uuid": "8f2839f25d086af736a60e9eeb907d3b93b6e0e5",
    "execution": {
     "iopub.execute_input": "2022-07-20T23:47:11.056372Z",
     "iopub.status.busy": "2022-07-20T23:47:11.055758Z",
     "iopub.status.idle": "2022-07-20T23:47:38.761998Z",
     "shell.execute_reply": "2022-07-20T23:47:38.760611Z"
    },
    "papermill": {
     "duration": 27.722014,
     "end_time": "2022-07-20T23:47:38.765015",
     "exception": false,
     "start_time": "2022-07-20T23:47:11.043001",
     "status": "completed"
    },
    "tags": []
   },
   "outputs": [
    {
     "name": "stdout",
     "output_type": "stream",
     "text": [
      "Collecting pygad\r\n",
      "  Downloading pygad-2.17.0-py3-none-any.whl (55 kB)\r\n",
      "\u001b[2K     \u001b[90m━━━━━━━━━━━━━━━━━━━━━━━━━━━━━━━━━━━━━━━\u001b[0m \u001b[32m55.2/55.2 kB\u001b[0m \u001b[31m620.3 kB/s\u001b[0m eta \u001b[36m0:00:00\u001b[0m\r\n",
      "\u001b[?25hRequirement already satisfied: numpy in /opt/conda/lib/python3.7/site-packages (from pygad) (1.21.6)\r\n",
      "Requirement already satisfied: matplotlib in /opt/conda/lib/python3.7/site-packages (from pygad) (3.5.2)\r\n",
      "Requirement already satisfied: pillow>=6.2.0 in /opt/conda/lib/python3.7/site-packages (from matplotlib->pygad) (9.1.1)\r\n",
      "Requirement already satisfied: packaging>=20.0 in /opt/conda/lib/python3.7/site-packages (from matplotlib->pygad) (21.3)\r\n",
      "Requirement already satisfied: python-dateutil>=2.7 in /opt/conda/lib/python3.7/site-packages (from matplotlib->pygad) (2.8.2)\r\n",
      "Requirement already satisfied: cycler>=0.10 in /opt/conda/lib/python3.7/site-packages (from matplotlib->pygad) (0.11.0)\r\n",
      "Requirement already satisfied: kiwisolver>=1.0.1 in /opt/conda/lib/python3.7/site-packages (from matplotlib->pygad) (1.4.2)\r\n",
      "Requirement already satisfied: fonttools>=4.22.0 in /opt/conda/lib/python3.7/site-packages (from matplotlib->pygad) (4.33.3)\r\n",
      "Requirement already satisfied: pyparsing>=2.2.1 in /opt/conda/lib/python3.7/site-packages (from matplotlib->pygad) (3.0.9)\r\n",
      "Requirement already satisfied: typing-extensions in /opt/conda/lib/python3.7/site-packages (from kiwisolver>=1.0.1->matplotlib->pygad) (4.1.1)\r\n",
      "Requirement already satisfied: six>=1.5 in /opt/conda/lib/python3.7/site-packages (from python-dateutil>=2.7->matplotlib->pygad) (1.16.0)\r\n",
      "Installing collected packages: pygad\r\n",
      "Successfully installed pygad-2.17.0\r\n",
      "\u001b[33mWARNING: Running pip as the 'root' user can result in broken permissions and conflicting behaviour with the system package manager. It is recommended to use a virtual environment instead: https://pip.pypa.io/warnings/venv\u001b[0m\u001b[33m\r\n",
      "\u001b[0mCollecting mplcyberpunk\r\n",
      "  Downloading mplcyberpunk-0.5.2-py3-none-any.whl (5.0 kB)\r\n",
      "Requirement already satisfied: matplotlib in /opt/conda/lib/python3.7/site-packages (from mplcyberpunk) (3.5.2)\r\n",
      "Requirement already satisfied: python-dateutil>=2.7 in /opt/conda/lib/python3.7/site-packages (from matplotlib->mplcyberpunk) (2.8.2)\r\n",
      "Requirement already satisfied: pillow>=6.2.0 in /opt/conda/lib/python3.7/site-packages (from matplotlib->mplcyberpunk) (9.1.1)\r\n",
      "Requirement already satisfied: kiwisolver>=1.0.1 in /opt/conda/lib/python3.7/site-packages (from matplotlib->mplcyberpunk) (1.4.2)\r\n",
      "Requirement already satisfied: numpy>=1.17 in /opt/conda/lib/python3.7/site-packages (from matplotlib->mplcyberpunk) (1.21.6)\r\n",
      "Requirement already satisfied: pyparsing>=2.2.1 in /opt/conda/lib/python3.7/site-packages (from matplotlib->mplcyberpunk) (3.0.9)\r\n",
      "Requirement already satisfied: cycler>=0.10 in /opt/conda/lib/python3.7/site-packages (from matplotlib->mplcyberpunk) (0.11.0)\r\n",
      "Requirement already satisfied: fonttools>=4.22.0 in /opt/conda/lib/python3.7/site-packages (from matplotlib->mplcyberpunk) (4.33.3)\r\n",
      "Requirement already satisfied: packaging>=20.0 in /opt/conda/lib/python3.7/site-packages (from matplotlib->mplcyberpunk) (21.3)\r\n",
      "Requirement already satisfied: typing-extensions in /opt/conda/lib/python3.7/site-packages (from kiwisolver>=1.0.1->matplotlib->mplcyberpunk) (4.1.1)\r\n",
      "Requirement already satisfied: six>=1.5 in /opt/conda/lib/python3.7/site-packages (from python-dateutil>=2.7->matplotlib->mplcyberpunk) (1.16.0)\r\n",
      "Installing collected packages: mplcyberpunk\r\n",
      "Successfully installed mplcyberpunk-0.5.2\r\n",
      "\u001b[33mWARNING: Running pip as the 'root' user can result in broken permissions and conflicting behaviour with the system package manager. It is recommended to use a virtual environment instead: https://pip.pypa.io/warnings/venv\u001b[0m\u001b[33m\r\n",
      "\u001b[0m"
     ]
    }
   ],
   "source": [
    "# Required libraries\n",
    "\n",
    "import pandas as pd\n",
    "import numpy as np\n",
    "import matplotlib.pyplot as plt\n",
    "import seaborn as sns\n",
    "!pip install pygad\n",
    "!pip install mplcyberpunk\n",
    "import pygad\n",
    "import numpy\n",
    "import pygad\n",
    "import pygad.nn\n",
    "import pygad.gann\n",
    "from sklearn.model_selection import train_test_split\n",
    "from sklearn.metrics import accuracy_score\n",
    "from sklearn.metrics import recall_score, confusion_matrix, precision_score, f1_score, classification_report, roc_auc_score\n",
    "from sklearn.preprocessing import StandardScaler"
   ]
  },
  {
   "cell_type": "markdown",
   "id": "fe251806",
   "metadata": {
    "papermill": {
     "duration": 0.014001,
     "end_time": "2022-07-20T23:47:38.792098",
     "exception": false,
     "start_time": "2022-07-20T23:47:38.778097",
     "status": "completed"
    },
    "tags": []
   },
   "source": [
    "* Vanishing gradients occur while training deep neural networks using gradient-based optimization methods. It occurs due to the nature of the backpropagation algorithm that is used to train the neural network. In such methods, during each iteration of training each of the neural network's weights receives an update proportional to the partial derivative of the error function with respect to the current weight.\n",
    "\n",
    "\n",
    "![](https://2900157524-files.gitbook.io/~/files/v0/b/gitbook-legacy-files/o/assets%2F-LZMLRvaju5sqPs7pYTX%2F-Lrp-FwxhWogOLC4-q3F%2F-LrPm3c4Pn1RXIZXgXxL%2Fothertechniques.png?generation=1571773560222799&alt=media)\n",
    "\n",
    "* Deep neural network learning can be formulated as a non-convex optimization problem. Existing optimization algorithms, e.g., Adam, can learn the models fast, but may get stuck in local optima easily.  Adam together with its many optimizer algorithms have been shown to be effective for optimizing a large group of problems. However, for the non-convex objective functions of deep learning models, Adam cannot guarantee to identify the globally optimal solutions, whose iterative updating process may inevitably get stuck in local optima. The performance of Adam is not very robust, which will be greatly degraded for the objective function with non-smooth shape or learning scenarios polluted by noisy data. Furthermore, the distributed computation process of Adam requires heavy synchronization, which may hinder its adoption in large-cluster based distributed computational platforms.\n",
    "\n",
    "* On the other hand, genetic algorithm (GA), a metaheuristic algorithm inspired by the process of natural selection in evolutionary algorithms, has also been widely used for learning the solutions of many optimization problems. In GA, a population of candidate solutions will be initialized and evolved towards better ones. Several attempts have also been made to use GA for training deep neural network models instead of the gradient descent based methods. GA has demonstrated its outstanding performance in many learning scenarios, like non-convex objective function containing multiple local optima, objective function with non-smooth shape, as well as a large number of parameters and noisy environments. GA also fits the parallel/distributed computing setting very well, whose learning process can be easily deployed on parallel/distributed computing platforms. Meanwhile, compared with Adam, GA may take more rounds to converge in addressing optimization objective functions.\n",
    "\n",
    "[Reference](https://arxiv.org/pdf/1805.07500.pdf)"
   ]
  },
  {
   "cell_type": "code",
   "execution_count": 2,
   "id": "b938c747",
   "metadata": {
    "execution": {
     "iopub.execute_input": "2022-07-20T23:47:38.820383Z",
     "iopub.status.busy": "2022-07-20T23:47:38.819616Z",
     "iopub.status.idle": "2022-07-20T23:47:38.862057Z",
     "shell.execute_reply": "2022-07-20T23:47:38.861058Z"
    },
    "papermill": {
     "duration": 0.059541,
     "end_time": "2022-07-20T23:47:38.864624",
     "exception": false,
     "start_time": "2022-07-20T23:47:38.805083",
     "status": "completed"
    },
    "tags": []
   },
   "outputs": [
    {
     "data": {
      "text/html": [
       "<div>\n",
       "<style scoped>\n",
       "    .dataframe tbody tr th:only-of-type {\n",
       "        vertical-align: middle;\n",
       "    }\n",
       "\n",
       "    .dataframe tbody tr th {\n",
       "        vertical-align: top;\n",
       "    }\n",
       "\n",
       "    .dataframe thead th {\n",
       "        text-align: right;\n",
       "    }\n",
       "</style>\n",
       "<table border=\"1\" class=\"dataframe\">\n",
       "  <thead>\n",
       "    <tr style=\"text-align: right;\">\n",
       "      <th></th>\n",
       "      <th>age</th>\n",
       "      <th>sex</th>\n",
       "      <th>cp</th>\n",
       "      <th>trtbps</th>\n",
       "      <th>chol</th>\n",
       "      <th>fbs</th>\n",
       "      <th>restecg</th>\n",
       "      <th>thalachh</th>\n",
       "      <th>exng</th>\n",
       "      <th>oldpeak</th>\n",
       "      <th>slp</th>\n",
       "      <th>caa</th>\n",
       "      <th>thall</th>\n",
       "      <th>output</th>\n",
       "    </tr>\n",
       "  </thead>\n",
       "  <tbody>\n",
       "    <tr>\n",
       "      <th>0</th>\n",
       "      <td>63</td>\n",
       "      <td>1</td>\n",
       "      <td>3</td>\n",
       "      <td>145</td>\n",
       "      <td>233</td>\n",
       "      <td>1</td>\n",
       "      <td>0</td>\n",
       "      <td>150</td>\n",
       "      <td>0</td>\n",
       "      <td>2.3</td>\n",
       "      <td>0</td>\n",
       "      <td>0</td>\n",
       "      <td>1</td>\n",
       "      <td>1</td>\n",
       "    </tr>\n",
       "    <tr>\n",
       "      <th>1</th>\n",
       "      <td>37</td>\n",
       "      <td>1</td>\n",
       "      <td>2</td>\n",
       "      <td>130</td>\n",
       "      <td>250</td>\n",
       "      <td>0</td>\n",
       "      <td>1</td>\n",
       "      <td>187</td>\n",
       "      <td>0</td>\n",
       "      <td>3.5</td>\n",
       "      <td>0</td>\n",
       "      <td>0</td>\n",
       "      <td>2</td>\n",
       "      <td>1</td>\n",
       "    </tr>\n",
       "    <tr>\n",
       "      <th>2</th>\n",
       "      <td>41</td>\n",
       "      <td>0</td>\n",
       "      <td>1</td>\n",
       "      <td>130</td>\n",
       "      <td>204</td>\n",
       "      <td>0</td>\n",
       "      <td>0</td>\n",
       "      <td>172</td>\n",
       "      <td>0</td>\n",
       "      <td>1.4</td>\n",
       "      <td>2</td>\n",
       "      <td>0</td>\n",
       "      <td>2</td>\n",
       "      <td>1</td>\n",
       "    </tr>\n",
       "    <tr>\n",
       "      <th>3</th>\n",
       "      <td>56</td>\n",
       "      <td>1</td>\n",
       "      <td>1</td>\n",
       "      <td>120</td>\n",
       "      <td>236</td>\n",
       "      <td>0</td>\n",
       "      <td>1</td>\n",
       "      <td>178</td>\n",
       "      <td>0</td>\n",
       "      <td>0.8</td>\n",
       "      <td>2</td>\n",
       "      <td>0</td>\n",
       "      <td>2</td>\n",
       "      <td>1</td>\n",
       "    </tr>\n",
       "    <tr>\n",
       "      <th>4</th>\n",
       "      <td>57</td>\n",
       "      <td>0</td>\n",
       "      <td>0</td>\n",
       "      <td>120</td>\n",
       "      <td>354</td>\n",
       "      <td>0</td>\n",
       "      <td>1</td>\n",
       "      <td>163</td>\n",
       "      <td>1</td>\n",
       "      <td>0.6</td>\n",
       "      <td>2</td>\n",
       "      <td>0</td>\n",
       "      <td>2</td>\n",
       "      <td>1</td>\n",
       "    </tr>\n",
       "  </tbody>\n",
       "</table>\n",
       "</div>"
      ],
      "text/plain": [
       "   age  sex  cp  trtbps  chol  fbs  restecg  thalachh  exng  oldpeak  slp  \\\n",
       "0   63    1   3     145   233    1        0       150     0      2.3    0   \n",
       "1   37    1   2     130   250    0        1       187     0      3.5    0   \n",
       "2   41    0   1     130   204    0        0       172     0      1.4    2   \n",
       "3   56    1   1     120   236    0        1       178     0      0.8    2   \n",
       "4   57    0   0     120   354    0        1       163     1      0.6    2   \n",
       "\n",
       "   caa  thall  output  \n",
       "0    0      1       1  \n",
       "1    0      2       1  \n",
       "2    0      2       1  \n",
       "3    0      2       1  \n",
       "4    0      2       1  "
      ]
     },
     "execution_count": 2,
     "metadata": {},
     "output_type": "execute_result"
    }
   ],
   "source": [
    "df = pd.read_csv(\"../input/heart-attack-analysis-prediction-dataset/heart.csv\")\n",
    "df.head()"
   ]
  },
  {
   "cell_type": "markdown",
   "id": "afdbf429",
   "metadata": {
    "papermill": {
     "duration": 0.012755,
     "end_time": "2022-07-20T23:47:38.890486",
     "exception": false,
     "start_time": "2022-07-20T23:47:38.877731",
     "status": "completed"
    },
    "tags": []
   },
   "source": [
    "## I wouldn't "
   ]
  },
  {
   "cell_type": "code",
   "execution_count": 3,
   "id": "14bc79f9",
   "metadata": {
    "execution": {
     "iopub.execute_input": "2022-07-20T23:47:38.919859Z",
     "iopub.status.busy": "2022-07-20T23:47:38.919424Z",
     "iopub.status.idle": "2022-07-20T23:47:38.948806Z",
     "shell.execute_reply": "2022-07-20T23:47:38.947726Z"
    },
    "papermill": {
     "duration": 0.047568,
     "end_time": "2022-07-20T23:47:38.952188",
     "exception": false,
     "start_time": "2022-07-20T23:47:38.904620",
     "status": "completed"
    },
    "tags": []
   },
   "outputs": [
    {
     "name": "stdout",
     "output_type": "stream",
     "text": [
      "<class 'pandas.core.frame.DataFrame'>\n",
      "RangeIndex: 303 entries, 0 to 302\n",
      "Data columns (total 14 columns):\n",
      " #   Column    Non-Null Count  Dtype  \n",
      "---  ------    --------------  -----  \n",
      " 0   age       303 non-null    int64  \n",
      " 1   sex       303 non-null    int64  \n",
      " 2   cp        303 non-null    int64  \n",
      " 3   trtbps    303 non-null    int64  \n",
      " 4   chol      303 non-null    int64  \n",
      " 5   fbs       303 non-null    int64  \n",
      " 6   restecg   303 non-null    int64  \n",
      " 7   thalachh  303 non-null    int64  \n",
      " 8   exng      303 non-null    int64  \n",
      " 9   oldpeak   303 non-null    float64\n",
      " 10  slp       303 non-null    int64  \n",
      " 11  caa       303 non-null    int64  \n",
      " 12  thall     303 non-null    int64  \n",
      " 13  output    303 non-null    int64  \n",
      "dtypes: float64(1), int64(13)\n",
      "memory usage: 33.3 KB\n"
     ]
    }
   ],
   "source": [
    "df.info()"
   ]
  },
  {
   "cell_type": "code",
   "execution_count": 4,
   "id": "00d91877",
   "metadata": {
    "execution": {
     "iopub.execute_input": "2022-07-20T23:47:38.980788Z",
     "iopub.status.busy": "2022-07-20T23:47:38.979990Z",
     "iopub.status.idle": "2022-07-20T23:47:39.004502Z",
     "shell.execute_reply": "2022-07-20T23:47:39.003226Z"
    },
    "papermill": {
     "duration": 0.041779,
     "end_time": "2022-07-20T23:47:39.007328",
     "exception": false,
     "start_time": "2022-07-20T23:47:38.965549",
     "status": "completed"
    },
    "tags": []
   },
   "outputs": [
    {
     "data": {
      "text/plain": [
       "((242, 13), (242,), (61, 13), (61,))"
      ]
     },
     "execution_count": 4,
     "metadata": {},
     "output_type": "execute_result"
    }
   ],
   "source": [
    "y = df.output\n",
    "X = df.drop(columns=\"output\")\n",
    "\n",
    "X_train, X_test, y_train, y_test = train_test_split(X,\n",
    "                                                    y,\n",
    "                                                    stratify = y,\n",
    "                                                    test_size = .2,\n",
    "                                                    random_state = 42)\n",
    "scaler = StandardScaler()\n",
    "scaler.fit(X_train)\n",
    "X_train = scaler.transform(X_train)\n",
    "X_test = scaler.transform(X_test)\n",
    "\n",
    "X_train.shape, y_train.shape, X_test.shape, y_test.shape"
   ]
  },
  {
   "cell_type": "code",
   "execution_count": 5,
   "id": "0bfbb310",
   "metadata": {
    "execution": {
     "iopub.execute_input": "2022-07-20T23:47:39.035762Z",
     "iopub.status.busy": "2022-07-20T23:47:39.035023Z",
     "iopub.status.idle": "2022-07-20T23:47:50.511167Z",
     "shell.execute_reply": "2022-07-20T23:47:50.509965Z"
    },
    "papermill": {
     "duration": 11.493911,
     "end_time": "2022-07-20T23:47:50.514070",
     "exception": false,
     "start_time": "2022-07-20T23:47:39.020159",
     "status": "completed"
    },
    "tags": []
   },
   "outputs": [],
   "source": [
    "# My keras tool-kit :D\n",
    "from keras.wrappers.scikit_learn import KerasClassifier\n",
    "from sklearn.model_selection import cross_val_score\n",
    "from keras.models import Sequential # initialize neural network library\n",
    "from keras.layers import Dense # build our layers library\n",
    "import tensorflow as tf\n",
    "from keras.layers import Activation\n",
    "from tensorflow.keras.models import Sequential\n",
    "from tensorflow.keras.layers import Conv2D\n",
    "from tensorflow.keras.layers import MaxPool2D\n",
    "from tensorflow.keras.layers import Flatten\n",
    "from tensorflow.keras.layers import Dense\n",
    "from tensorflow.keras.layers import Dropout\n",
    "from keras import callbacks\n",
    "from tensorflow.keras.optimizers import Adam, SGD, RMSprop, Adamax\n",
    "import random\n",
    "import mplcyberpunk\n",
    "def scheduler(epoch, learning_rate):\n",
    "    if epoch < 10:\n",
    "        return learning_rate\n",
    "    else:\n",
    "        return learning_rate * tf.math.exp(-0.1)"
   ]
  },
  {
   "cell_type": "code",
   "execution_count": 6,
   "id": "4733ed7e",
   "metadata": {
    "execution": {
     "iopub.execute_input": "2022-07-20T23:47:50.543309Z",
     "iopub.status.busy": "2022-07-20T23:47:50.541424Z",
     "iopub.status.idle": "2022-07-20T23:47:57.304215Z",
     "shell.execute_reply": "2022-07-20T23:47:57.302921Z"
    },
    "papermill": {
     "duration": 6.781267,
     "end_time": "2022-07-20T23:47:57.308351",
     "exception": false,
     "start_time": "2022-07-20T23:47:50.527084",
     "status": "completed"
    },
    "tags": []
   },
   "outputs": [
    {
     "name": "stderr",
     "output_type": "stream",
     "text": [
      "2022-07-20 23:47:50.593795: I tensorflow/core/common_runtime/process_util.cc:146] Creating new thread pool with default inter op setting: 2. Tune using inter_op_parallelism_threads for best performance.\n",
      "2022-07-20 23:47:50.823737: I tensorflow/compiler/mlir/mlir_graph_optimization_pass.cc:185] None of the MLIR Optimization Passes are enabled (registered 2)\n"
     ]
    },
    {
     "name": "stdout",
     "output_type": "stream",
     "text": [
      "Epoch 1/32\n",
      "\n",
      "Epoch 00001: LearningRateScheduler setting learning rate to 0.009999999776482582.\n",
      "16/16 [==============================] - 1s 20ms/step - loss: 1.5417 - accuracy: 0.4669 - val_loss: 0.5850 - val_accuracy: 0.7049\n",
      "Epoch 2/32\n",
      "\n",
      "Epoch 00002: LearningRateScheduler setting learning rate to 0.009999999776482582.\n",
      "16/16 [==============================] - 0s 6ms/step - loss: 0.8491 - accuracy: 0.8058 - val_loss: 0.9444 - val_accuracy: 0.8033\n",
      "Epoch 3/32\n",
      "\n",
      "Epoch 00003: LearningRateScheduler setting learning rate to 0.009999999776482582.\n",
      "16/16 [==============================] - 0s 5ms/step - loss: 0.6596 - accuracy: 0.7727 - val_loss: 0.5353 - val_accuracy: 0.7213\n",
      "Epoch 4/32\n",
      "\n",
      "Epoch 00004: LearningRateScheduler setting learning rate to 0.009999999776482582.\n",
      "16/16 [==============================] - 0s 5ms/step - loss: 0.4883 - accuracy: 0.7769 - val_loss: 0.4904 - val_accuracy: 0.7869\n",
      "Epoch 5/32\n",
      "\n",
      "Epoch 00005: LearningRateScheduler setting learning rate to 0.009999999776482582.\n",
      "16/16 [==============================] - 0s 5ms/step - loss: 0.4238 - accuracy: 0.7893 - val_loss: 0.4963 - val_accuracy: 0.8197\n",
      "Epoch 6/32\n",
      "\n",
      "Epoch 00006: LearningRateScheduler setting learning rate to 0.009999999776482582.\n",
      "16/16 [==============================] - 0s 5ms/step - loss: 0.3941 - accuracy: 0.8264 - val_loss: 0.7213 - val_accuracy: 0.8197\n",
      "Epoch 7/32\n",
      "\n",
      "Epoch 00007: LearningRateScheduler setting learning rate to 0.009999999776482582.\n",
      "16/16 [==============================] - 0s 5ms/step - loss: 0.3791 - accuracy: 0.8306 - val_loss: 0.7369 - val_accuracy: 0.7705\n",
      "Epoch 8/32\n",
      "\n",
      "Epoch 00008: LearningRateScheduler setting learning rate to 0.009999999776482582.\n",
      "16/16 [==============================] - 0s 5ms/step - loss: 0.4070 - accuracy: 0.8430 - val_loss: 0.8809 - val_accuracy: 0.7705\n",
      "Epoch 9/32\n",
      "\n",
      "Epoch 00009: LearningRateScheduler setting learning rate to 0.009999999776482582.\n",
      "16/16 [==============================] - 0s 5ms/step - loss: 0.3875 - accuracy: 0.8554 - val_loss: 0.8898 - val_accuracy: 0.7705\n",
      "Epoch 10/32\n",
      "\n",
      "Epoch 00010: LearningRateScheduler setting learning rate to 0.009999999776482582.\n",
      "16/16 [==============================] - 0s 5ms/step - loss: 0.3709 - accuracy: 0.8678 - val_loss: 0.6978 - val_accuracy: 0.7049\n",
      "Epoch 11/32\n",
      "\n",
      "Epoch 00011: LearningRateScheduler setting learning rate to tf.Tensor(0.009048374, shape=(), dtype=float32).\n",
      "16/16 [==============================] - 0s 6ms/step - loss: 0.3665 - accuracy: 0.8512 - val_loss: 0.8543 - val_accuracy: 0.7541\n",
      "Epoch 12/32\n",
      "\n",
      "Epoch 00012: LearningRateScheduler setting learning rate to tf.Tensor(0.008187308, shape=(), dtype=float32).\n",
      "16/16 [==============================] - 0s 5ms/step - loss: 0.3439 - accuracy: 0.8636 - val_loss: 0.8747 - val_accuracy: 0.7541\n",
      "Epoch 13/32\n",
      "\n",
      "Epoch 00013: LearningRateScheduler setting learning rate to tf.Tensor(0.0074081826, shape=(), dtype=float32).\n",
      "16/16 [==============================] - 0s 5ms/step - loss: 0.3442 - accuracy: 0.8636 - val_loss: 0.8946 - val_accuracy: 0.7705\n",
      "Epoch 14/32\n",
      "\n",
      "Epoch 00014: LearningRateScheduler setting learning rate to tf.Tensor(0.0067032008, shape=(), dtype=float32).\n",
      "16/16 [==============================] - 0s 5ms/step - loss: 0.3222 - accuracy: 0.8802 - val_loss: 0.9019 - val_accuracy: 0.7541\n",
      "Epoch 15/32\n",
      "\n",
      "Epoch 00015: LearningRateScheduler setting learning rate to tf.Tensor(0.0060653067, shape=(), dtype=float32).\n",
      "16/16 [==============================] - 0s 4ms/step - loss: 0.3061 - accuracy: 0.8760 - val_loss: 0.8794 - val_accuracy: 0.7705\n",
      "Epoch 16/32\n",
      "\n",
      "Epoch 00016: LearningRateScheduler setting learning rate to tf.Tensor(0.0054881168, shape=(), dtype=float32).\n",
      "16/16 [==============================] - 0s 5ms/step - loss: 0.3271 - accuracy: 0.8760 - val_loss: 0.7969 - val_accuracy: 0.6885\n",
      "Epoch 17/32\n",
      "\n",
      "Epoch 00017: LearningRateScheduler setting learning rate to tf.Tensor(0.0049658534, shape=(), dtype=float32).\n",
      "16/16 [==============================] - 0s 5ms/step - loss: 0.4277 - accuracy: 0.8140 - val_loss: 0.7751 - val_accuracy: 0.6721\n",
      "Epoch 18/32\n",
      "\n",
      "Epoch 00018: LearningRateScheduler setting learning rate to tf.Tensor(0.00449329, shape=(), dtype=float32).\n",
      "16/16 [==============================] - 0s 5ms/step - loss: 0.3619 - accuracy: 0.8347 - val_loss: 0.9681 - val_accuracy: 0.6885\n",
      "Epoch 19/32\n",
      "\n",
      "Epoch 00019: LearningRateScheduler setting learning rate to tf.Tensor(0.004065697, shape=(), dtype=float32).\n",
      "16/16 [==============================] - 0s 5ms/step - loss: 0.3326 - accuracy: 0.8678 - val_loss: 1.1445 - val_accuracy: 0.7541\n",
      "Epoch 20/32\n",
      "\n",
      "Epoch 00020: LearningRateScheduler setting learning rate to tf.Tensor(0.003678795, shape=(), dtype=float32).\n",
      "16/16 [==============================] - 0s 5ms/step - loss: 0.3210 - accuracy: 0.8636 - val_loss: 1.1143 - val_accuracy: 0.7541\n",
      "Epoch 21/32\n",
      "\n",
      "Epoch 00021: LearningRateScheduler setting learning rate to tf.Tensor(0.0033287113, shape=(), dtype=float32).\n",
      "16/16 [==============================] - 0s 5ms/step - loss: 0.3073 - accuracy: 0.8719 - val_loss: 1.1241 - val_accuracy: 0.7541\n",
      "Epoch 22/32\n",
      "\n",
      "Epoch 00022: LearningRateScheduler setting learning rate to tf.Tensor(0.0030119426, shape=(), dtype=float32).\n",
      "16/16 [==============================] - 0s 5ms/step - loss: 0.3004 - accuracy: 0.8843 - val_loss: 1.1216 - val_accuracy: 0.7541\n",
      "Epoch 23/32\n",
      "\n",
      "Epoch 00023: LearningRateScheduler setting learning rate to tf.Tensor(0.0027253183, shape=(), dtype=float32).\n",
      "16/16 [==============================] - 0s 5ms/step - loss: 0.2955 - accuracy: 0.8802 - val_loss: 1.1277 - val_accuracy: 0.7541\n",
      "Epoch 24/32\n",
      "\n",
      "Epoch 00024: LearningRateScheduler setting learning rate to tf.Tensor(0.00246597, shape=(), dtype=float32).\n",
      "16/16 [==============================] - 0s 5ms/step - loss: 0.2917 - accuracy: 0.8843 - val_loss: 1.1282 - val_accuracy: 0.7541\n",
      "Epoch 25/32\n",
      "\n",
      "Epoch 00025: LearningRateScheduler setting learning rate to tf.Tensor(0.002231302, shape=(), dtype=float32).\n",
      "16/16 [==============================] - 0s 5ms/step - loss: 0.2896 - accuracy: 0.8843 - val_loss: 1.1297 - val_accuracy: 0.7541\n",
      "Epoch 26/32\n",
      "\n",
      "Epoch 00026: LearningRateScheduler setting learning rate to tf.Tensor(0.0020189655, shape=(), dtype=float32).\n",
      "16/16 [==============================] - 0s 4ms/step - loss: 0.2850 - accuracy: 0.8926 - val_loss: 1.1300 - val_accuracy: 0.7541\n",
      "Epoch 27/32\n",
      "\n",
      "Epoch 00027: LearningRateScheduler setting learning rate to tf.Tensor(0.0018268356, shape=(), dtype=float32).\n",
      "16/16 [==============================] - 0s 4ms/step - loss: 0.2804 - accuracy: 0.8926 - val_loss: 1.1236 - val_accuracy: 0.7541\n",
      "Epoch 28/32\n",
      "\n",
      "Epoch 00028: LearningRateScheduler setting learning rate to tf.Tensor(0.0016529892, shape=(), dtype=float32).\n",
      "16/16 [==============================] - 0s 5ms/step - loss: 0.2780 - accuracy: 0.8926 - val_loss: 1.1265 - val_accuracy: 0.7541\n",
      "Epoch 29/32\n",
      "\n",
      "Epoch 00029: LearningRateScheduler setting learning rate to tf.Tensor(0.0014956865, shape=(), dtype=float32).\n",
      "16/16 [==============================] - 0s 5ms/step - loss: 0.2767 - accuracy: 0.8967 - val_loss: 0.9466 - val_accuracy: 0.7541\n",
      "Epoch 30/32\n",
      "\n",
      "Epoch 00030: LearningRateScheduler setting learning rate to tf.Tensor(0.0013533531, shape=(), dtype=float32).\n",
      "16/16 [==============================] - 0s 5ms/step - loss: 0.2740 - accuracy: 0.8967 - val_loss: 1.1163 - val_accuracy: 0.7541\n",
      "Epoch 31/32\n",
      "\n",
      "Epoch 00031: LearningRateScheduler setting learning rate to tf.Tensor(0.0012245646, shape=(), dtype=float32).\n",
      "16/16 [==============================] - 0s 5ms/step - loss: 0.2729 - accuracy: 0.9008 - val_loss: 1.1171 - val_accuracy: 0.7541\n",
      "Epoch 32/32\n",
      "\n",
      "Epoch 00032: LearningRateScheduler setting learning rate to tf.Tensor(0.001108032, shape=(), dtype=float32).\n",
      "16/16 [==============================] - 0s 5ms/step - loss: 0.2724 - accuracy: 0.8967 - val_loss: 0.9539 - val_accuracy: 0.7541\n"
     ]
    },
    {
     "data": {
      "image/png": "[encoded data removed]",
      "text/plain": [
       "<Figure size 864x432 with 2 Axes>"
      ]
     },
     "metadata": {
      "needs_background": "dark"
     },
     "output_type": "display_data"
    },
    {
     "name": "stdout",
     "output_type": "stream",
     "text": [
      "CPU times: user 4.46 s, sys: 657 ms, total: 5.12 s\n",
      "Wall time: 6.74 s\n"
     ]
    }
   ],
   "source": [
    "%%time\n",
    "classifier = tf.keras.Sequential()\n",
    "tf.compat.v1.reset_default_graph()\n",
    "tf.random.set_seed(0)\n",
    "random.seed(0)\n",
    "np.random.seed(0)\n",
    "initializer = tf.keras.initializers.RandomNormal(mean=0., stddev=1.)\n",
    "\n",
    "# Adding the input layer and the first hidden layer\n",
    "classifier.add(Dense(units = 8, kernel_initializer = 'uniform' , activation = 'relu', input_dim = X_train.shape[1])) \n",
    "# Adding the second hidden layer\n",
    "classifier.add(Dense(units = 16, kernel_initializer = 'uniform', activation = 'relu'))\n",
    "# Adding the third hidden layer\n",
    "classifier.add(Dense(units = 32, kernel_initializer = 'uniform', activation = 'relu'))\n",
    "# Adding the output layer\n",
    "classifier.add(Dense(units = 1, kernel_initializer = 'uniform', activation = 'relu'))\n",
    "\n",
    "# Compiling the ANN \n",
    "classifier.compile(optimizer = tf.keras.optimizers.Adam(learning_rate=0.01),\n",
    "                   loss = 'binary_crossentropy', \n",
    "                   metrics = ['accuracy'])\n",
    "\n",
    "# Fitting the ANN to the Training set\n",
    "\n",
    "r = classifier.fit(X_train, y_train,\n",
    "                   validation_data=(X_test,y_test),\n",
    "                   callbacks=[callbacks.EarlyStopping(min_delta=0.0001,patience=40,restore_best_weights=True),\n",
    "                             tf.keras.callbacks.LearningRateScheduler(scheduler, verbose=1)],\n",
    "                   batch_size=16,\n",
    "                   epochs=32)\n",
    "\n",
    "acc = r.history['accuracy']\n",
    "val_acc = r.history['val_accuracy']\n",
    "loss = r.history['loss']\n",
    "val_loss = r.history['val_loss']\n",
    "\n",
    "plt.figure(figsize=(12, 6))\n",
    "plt.style.use('cyberpunk')\n",
    "plt.subplot(1, 2, 1)\n",
    "plt.plot(acc, label='Training Acc')\n",
    "plt.plot(val_acc, label='Validation Acc')\n",
    "plt.title('Training And Validation Acc')\n",
    "plt.legend()\n",
    "mplcyberpunk.add_glow_effects()\n",
    "\n",
    "\n",
    "plt.subplot(1, 2, 2)\n",
    "plt.plot(loss, label='Training Loss')\n",
    "plt.plot(val_loss, label='Validation Loss')\n",
    "plt.title('Training And Validation Loss')\n",
    "plt.legend()\n",
    "mplcyberpunk.add_glow_effects()\n",
    "plt.show()"
   ]
  },
  {
   "cell_type": "code",
   "execution_count": 7,
   "id": "e3a9ab8c",
   "metadata": {
    "execution": {
     "iopub.execute_input": "2022-07-20T23:47:57.351659Z",
     "iopub.status.busy": "2022-07-20T23:47:57.350878Z",
     "iopub.status.idle": "2022-07-20T23:47:57.580620Z",
     "shell.execute_reply": "2022-07-20T23:47:57.579302Z"
    },
    "papermill": {
     "duration": 0.254097,
     "end_time": "2022-07-20T23:47:57.582996",
     "exception": false,
     "start_time": "2022-07-20T23:47:57.328899",
     "status": "completed"
    },
    "tags": []
   },
   "outputs": [
    {
     "name": "stdout",
     "output_type": "stream",
     "text": [
      "Train Accuracy score: 0.90\n",
      "Train ROC AUC score: 0.90\n",
      "Test Accuracy score: 0.75\n",
      "Test ROC-AUC score: 0.746\n",
      "[[18 10]\n",
      " [ 5 28]]\n",
      "              precision    recall  f1-score   support\n",
      "\n",
      "           0       0.78      0.64      0.71        28\n",
      "           1       0.74      0.85      0.79        33\n",
      "\n",
      "    accuracy                           0.75        61\n",
      "   macro avg       0.76      0.75      0.75        61\n",
      "weighted avg       0.76      0.75      0.75        61\n",
      "\n"
     ]
    }
   ],
   "source": [
    "y_pred_tr = [1 if each >= 0.5 else 0 for each in classifier.predict(X_train)]\n",
    "y_pred_ts = [1 if each >= 0.5 else 0 for each in classifier.predict(X_test)]\n",
    "# \n",
    "print('Train Accuracy score: {0:0.2f}'.format(accuracy_score(y_train, y_pred_tr)))\n",
    "print('Train ROC AUC score: {0:0.2f}'.format(roc_auc_score(y_train, y_pred_tr)))\n",
    "print('Test Accuracy score: {0:0.2f}'.format(accuracy_score(y_test, y_pred_ts)))\n",
    "print('Test ROC-AUC score: {0:0.3f}'.format(roc_auc_score(y_test, y_pred_ts)))\n",
    "print(confusion_matrix(y_test,y_pred_ts))\n",
    "print(classification_report(y_test,y_pred_ts))"
   ]
  },
  {
   "cell_type": "markdown",
   "id": "15ecf615",
   "metadata": {
    "papermill": {
     "duration": 0.019136,
     "end_time": "2022-07-20T23:47:57.622265",
     "exception": false,
     "start_time": "2022-07-20T23:47:57.603129",
     "status": "completed"
    },
    "tags": []
   },
   "source": [
    "# Step by step genetic algorithm with PyGAD\n",
    "### I have to say that this notebook was inspired by Christopher Nolan.\n",
    "![](https://cdn.theatlantic.com/thumbor/DG2Xor4Hl_KmZCdCasjGod-MDlk=/190x0:2623x1825/1200x900/media/img/mt/2020/08/MCDINCE_EC040/original.jpg)\n",
    "\n",
    "## Optimiception\n",
    "### It's actually a big dilemma. It isn't alluring to have to optimize the Optimizer. So even though this notebook is the official \"Tutorial of PyGAD\", it's called \"optimiception\" for me."
   ]
  },
  {
   "cell_type": "code",
   "execution_count": 8,
   "id": "d91a1df8",
   "metadata": {
    "execution": {
     "iopub.execute_input": "2022-07-20T23:47:57.663421Z",
     "iopub.status.busy": "2022-07-20T23:47:57.662246Z",
     "iopub.status.idle": "2022-07-20T23:47:57.670776Z",
     "shell.execute_reply": "2022-07-20T23:47:57.669592Z"
    },
    "papermill": {
     "duration": 0.031558,
     "end_time": "2022-07-20T23:47:57.673101",
     "exception": false,
     "start_time": "2022-07-20T23:47:57.641543",
     "status": "completed"
    },
    "tags": []
   },
   "outputs": [
    {
     "data": {
      "text/plain": [
       "((242, 13), (242,))"
      ]
     },
     "execution_count": 8,
     "metadata": {},
     "output_type": "execute_result"
    }
   ],
   "source": [
    "# Inputs\n",
    "\n",
    "array_X = X_train #.values (Scaler function return np array and pygad working with np.array)\n",
    "array_y = y_train.values\n",
    "array_X.shape,array_y.shape"
   ]
  },
  {
   "cell_type": "markdown",
   "id": "45b6703c",
   "metadata": {
    "papermill": {
     "duration": 0.019593,
     "end_time": "2022-07-20T23:47:57.712125",
     "exception": false,
     "start_time": "2022-07-20T23:47:57.692532",
     "status": "completed"
    },
    "tags": []
   },
   "source": [
    "## Fitness function\n",
    "\n",
    "* The PyGAD library works by allowing the users to customize the genetic algorithm for their own problems. Because the problems differ in how the fitness values are calculated, then PyGAD allows the user to use a custom function as a maximization fitness function. This function must accept 2 positional parameters representing the following:\n",
    "\n",
    "    1. The solution.\n",
    "    2. The solution index in the population.\n",
    "\n",
    "\n",
    "* The fitness function must return a single number representing the fitness. The higher the fitness value, the better the solution.\n",
    "\n",
    "* Here is the implementation of the fitness function for training a neural network. It uses the `pygad.nn.predict()` function to predict the class labels based on the current solution’s weights. The `pygad.nn.predict()` function uses the trained weights available in the trained_weights attribute of each layer of the network for making predictions.\n",
    "\n",
    "* Based on such predictions, the classification accuracy is calculated. This accuracy is used as the fitness value of the solution. Finally, the fitness value is returned."
   ]
  },
  {
   "cell_type": "code",
   "execution_count": 9,
   "id": "b6c89654",
   "metadata": {
    "execution": {
     "iopub.execute_input": "2022-07-20T23:47:57.753959Z",
     "iopub.status.busy": "2022-07-20T23:47:57.753531Z",
     "iopub.status.idle": "2022-07-20T23:47:57.760842Z",
     "shell.execute_reply": "2022-07-20T23:47:57.759426Z"
    },
    "papermill": {
     "duration": 0.031398,
     "end_time": "2022-07-20T23:47:57.763071",
     "exception": false,
     "start_time": "2022-07-20T23:47:57.731673",
     "status": "completed"
    },
    "tags": []
   },
   "outputs": [],
   "source": [
    "# Fitness function ``\n",
    "\n",
    "def fitness_func(solution, sol_idx):\n",
    "    global GANN_instance, data_inputs, data_outputs\n",
    "    predictions = pygad.nn.predict(last_layer=GANN_instance.population_networks[sol_idx],\n",
    "                                   data_inputs=data_inputs)\n",
    "    correct_predictions = numpy.where(predictions == data_outputs)[0].size\n",
    "    solution_fitness = (correct_predictions/data_outputs.size)*100\n",
    "\n",
    "    return solution_fitness"
   ]
  },
  {
   "cell_type": "markdown",
   "id": "b3c94bb2",
   "metadata": {
    "papermill": {
     "duration": 0.019289,
     "end_time": "2022-07-20T23:47:57.802141",
     "exception": false,
     "start_time": "2022-07-20T23:47:57.782852",
     "status": "completed"
    },
    "tags": []
   },
   "source": [
    "## Callback generation\n",
    "\n",
    "* After each generation of the genetic algorithm, the fitness function will be called to calculate the fitness value of each solution. Within the fitness function, the `pygad.nn.predict()` function is used for predicting the outputs based on the current solution’s trained_weights attribute. Thus, it is required that such an attribute is updated by weights evolved by the genetic algorithm after each generation.\n",
    "\n",
    "* This callback function can be used to update the trained_weights attribute of layers of each network in the population.\n",
    "\n",
    "* Here is the implementation for a function that updates the trained_weights attribute of the layers of the population networks.\n",
    "\n",
    "* It works by converting the current population from the vector form to the matric form using the `pygad.gann.population_as_matrices()` function. It accepts the population as vectors and returns it as matrices.\n",
    "\n",
    "* The population matrices are then passed to the `update_population_trained_weights()` method in the pygad.gann module to update the trained_weights attribute of all layers for all solutions within the population.\n",
    "\n",
    "#### My contribution \n",
    "* I creating `verbose` function additionally, because\n",
    "* I think the biggest handicap of this library is that it returns to all generations and their fitness result. Sometimes I create 10000 generations and get distracted by the generation's returns."
   ]
  },
  {
   "cell_type": "code",
   "execution_count": 10,
   "id": "d2345372",
   "metadata": {
    "execution": {
     "iopub.execute_input": "2022-07-20T23:47:57.848879Z",
     "iopub.status.busy": "2022-07-20T23:47:57.848253Z",
     "iopub.status.idle": "2022-07-20T23:47:57.856233Z",
     "shell.execute_reply": "2022-07-20T23:47:57.855387Z"
    },
    "papermill": {
     "duration": 0.034184,
     "end_time": "2022-07-20T23:47:57.858817",
     "exception": false,
     "start_time": "2022-07-20T23:47:57.824633",
     "status": "completed"
    },
    "tags": []
   },
   "outputs": [],
   "source": [
    "# First generation must came from zero.\n",
    "last_fitness = 0\n",
    "\n",
    "def callback_generation(ga_instance):\n",
    "    global GANN_instance, last_fitness\n",
    "\n",
    "    population_matrices = pygad.gann.population_as_matrices(population_networks=GANN_instance.population_networks,\n",
    "                                                            population_vectors=ga_instance.population)\n",
    "\n",
    "    GANN_instance.update_population_trained_weights(population_trained_weights=population_matrices)\n",
    "    if ga_instance.generations_completed % verbose == 0:\n",
    "        print(\"Generation = {generation}\".format(generation=ga_instance.generations_completed))\n",
    "        print(\"Fitness    = {fitness}\".format(fitness=ga_instance.best_solution()[1]))\n",
    "        print(\"Change     = {change}\".format(change=ga_instance.best_solution()[1] - last_fitness))\n",
    "\n",
    "    last_fitness = ga_instance.best_solution()[1].copy();\n",
    "\n",
    "# Holds the fitness value of the previous generation. We use this on the callback function\n"
   ]
  },
  {
   "cell_type": "markdown",
   "id": "d9eaab00",
   "metadata": {
    "papermill": {
     "duration": 0.019203,
     "end_time": "2022-07-20T23:47:57.897951",
     "exception": false,
     "start_time": "2022-07-20T23:47:57.878748",
     "status": "completed"
    },
    "tags": []
   },
   "source": [
    "## Prepare the Training Data\n"
   ]
  },
  {
   "cell_type": "code",
   "execution_count": 11,
   "id": "4cd39d05",
   "metadata": {
    "execution": {
     "iopub.execute_input": "2022-07-20T23:47:57.940397Z",
     "iopub.status.busy": "2022-07-20T23:47:57.939780Z",
     "iopub.status.idle": "2022-07-20T23:47:57.945368Z",
     "shell.execute_reply": "2022-07-20T23:47:57.944212Z"
    },
    "papermill": {
     "duration": 0.030015,
     "end_time": "2022-07-20T23:47:57.947946",
     "exception": false,
     "start_time": "2022-07-20T23:47:57.917931",
     "status": "completed"
    },
    "tags": []
   },
   "outputs": [],
   "source": [
    "# Prepare to data\n",
    "\n",
    "#Before building and training neural networks, the training data (input and output) is to be prepared. \n",
    "# The inputs and the outputs of the training data are NumPy arrays.\n",
    "# Reading the input data.\n",
    "data_inputs = array_X\n",
    "# Optional step of filtering the input data using the standard deviation.\n",
    "#features_STDs = numpy.std(a=data_inputs, axis=0)\n",
    "#data_inputs = data_inputs[:, features_STDs>50]\n",
    "\n",
    "# Reading the output data.\n",
    "data_outputs = array_y\n",
    "\n",
    "# The length of the input vector for each sample (i.e. number of neurons in the input layer).\n",
    "num_inputs = data_inputs.shape[1]\n",
    "\n",
    "# The number of neurons in the output layer (i.e. number of classes).\n",
    "# For the XOR models, there are 2 classes and thus their labels are 0 and 1. \n",
    "# The num_classes variable is assigned to 2.\n",
    "num_classes = 2"
   ]
  },
  {
   "cell_type": "markdown",
   "id": "2445fbd2",
   "metadata": {
    "papermill": {
     "duration": 0.018925,
     "end_time": "2022-07-20T23:47:57.986347",
     "exception": false,
     "start_time": "2022-07-20T23:47:57.967422",
     "status": "completed"
    },
    "tags": []
   },
   "source": [
    "## Creating an initial population of neural networks."
   ]
  },
  {
   "cell_type": "code",
   "execution_count": 12,
   "id": "8849c3ec",
   "metadata": {
    "execution": {
     "iopub.execute_input": "2022-07-20T23:47:58.028799Z",
     "iopub.status.busy": "2022-07-20T23:47:58.028130Z",
     "iopub.status.idle": "2022-07-20T23:47:58.041521Z",
     "shell.execute_reply": "2022-07-20T23:47:58.040224Z"
    },
    "papermill": {
     "duration": 0.037833,
     "end_time": "2022-07-20T23:47:58.044153",
     "exception": false,
     "start_time": "2022-07-20T23:47:58.006320",
     "status": "completed"
    },
    "tags": []
   },
   "outputs": [],
   "source": [
    "# The return of the initial_population() function holds references to the networks, not their weights. Using such references, the weights of all networks can be fetched.\n",
    "\n",
    "num_solutions = 16\n",
    "# A solution or a network can be used interchangeably.\n",
    "# Number of solutions like as chromosomes.\n",
    "GANN_instance = pygad.gann.GANN(num_solutions=num_solutions,\n",
    "                                # chromosomes\n",
    "                                num_neurons_input=num_inputs,\n",
    "                                # input layer\n",
    "                                #num_neurons_output=1,\n",
    "                                # Number of neurons in the output layer.\n",
    "                                num_neurons_hidden_layers=[8,16,32],\n",
    "                                # I have comparing with above ANN, you can changing array.\n",
    "                                # While each number in the array represents the hidden layers from left to right, \n",
    "                                # the values they take represent the number of nodes.\n",
    "                                # If empty [], then no hidden layers are used. \n",
    "                                # For each int value it holds, then a hidden layer is created with a number of hidden neurons specified by the corresponding int value. \n",
    "                                # For example, num_neurons_hidden_layers=[10] creates a single hidden layer with 10 neurons. \n",
    "                                # num_neurons_hidden_layers=[10, 5] creates 2 hidden layers with 10 neurons for the first and 5 neurons for the second hidden layer.\n",
    "                                num_neurons_output=num_classes,\n",
    "                                # output layer\n",
    "                                hidden_activations=[\"relu\", \"relu\",\"relu\"],\n",
    "                                # Each array element is the activation function of \n",
    "                                # the hidden layer at the same index.\n",
    "                                # relu, sigmoid and softmax avaible.\n",
    "                                output_activation=\"sigmoid\"\n",
    "                                #  here is important because of if num_classes bigger than 2\n",
    "                                # output_activation must be \"softmax\"\n",
    "                               )\n",
    "\n",
    "# population does not hold the numerical weights of the network\n",
    "# instead it holds a list of references to each last layer of each network (i.e. solution) in the population. \n",
    "# A solution or a network can be used interchangeably.\n",
    "# If there is a population with 3 solutions (i.e. networks), then the population is a list with 3 elements. \n",
    "# Each element is a reference to the last layer of each network. \n",
    "# Using such a reference, all details of the network can be accessed.\n",
    "\n",
    "# let's create first population\n",
    "population_vectors = pygad.gann.population_as_vectors(population_networks=GANN_instance.population_networks)\n",
    "\n",
    "# To prepare the initial population, there are 2 ways:\n",
    "# 1) Prepare it yourself and pass it to the initial_population parameter. \n",
    "# This way is useful when the user wants to start the genetic algorithm with a custom initial population.\n",
    "# 2) Assign valid integer values to the sol_per_pop and num_genes parameters. \n",
    "# If the initial_population parameter exists, then the sol_per_pop and num_genes parameters are useless.\n",
    "# Don't forget your root!\n",
    "initial_population = population_vectors.copy()"
   ]
  },
  {
   "cell_type": "markdown",
   "id": "8a15242b",
   "metadata": {
    "papermill": {
     "duration": 0.01978,
     "end_time": "2022-07-20T23:47:58.083426",
     "exception": false,
     "start_time": "2022-07-20T23:47:58.063646",
     "status": "completed"
    },
    "tags": []
   },
   "source": [
    "## Here set-up the evolution strategy"
   ]
  },
  {
   "cell_type": "code",
   "execution_count": 13,
   "id": "ec2678f9",
   "metadata": {
    "execution": {
     "iopub.execute_input": "2022-07-20T23:47:58.133963Z",
     "iopub.status.busy": "2022-07-20T23:47:58.132511Z",
     "iopub.status.idle": "2022-07-20T23:47:58.139628Z",
     "shell.execute_reply": "2022-07-20T23:47:58.137895Z"
    },
    "papermill": {
     "duration": 0.039141,
     "end_time": "2022-07-20T23:47:58.142866",
     "exception": false,
     "start_time": "2022-07-20T23:47:58.103725",
     "status": "completed"
    },
    "tags": []
   },
   "outputs": [],
   "source": [
    "\n",
    "# Number of solutions to be selected as parents in the mating pool.\n",
    "\n",
    "num_parents_mating = 4\n",
    "\n",
    "# Number of generations\n",
    "\n",
    "num_generations = 1000 # Number of generations"
   ]
  },
  {
   "cell_type": "markdown",
   "id": "c9e841a2",
   "metadata": {
    "papermill": {
     "duration": 0.024947,
     "end_time": "2022-07-20T23:47:58.196756",
     "exception": false,
     "start_time": "2022-07-20T23:47:58.171809",
     "status": "completed"
    },
    "tags": []
   },
   "source": [
    "### In addition\n",
    "\n",
    "* The part that I had the most difficulty understanding was this variable. I don't know why I confused it with num_solution. That's why I wanted to elaborate on this part further.\n",
    "* num_solution parameters mean creating a different population with the same architecture, with this reason bigger num_solution maybe find a better result but duration longer.\n",
    "* The best method would be to narrate it by looking at the schematic of the operations. \n",
    "\n",
    "\n",
    "![](https://media.springernature.com/full/springer-static/image/art%3A10.1038%2Fs41598-022-05335-3/MediaObjects/41598_2022_5335_Fig1_HTML.png?as=webp)\n",
    "[Source of image](https://www.nature.com/articles/s41598-022-05335-3/figures/1)\n",
    "\n"
   ]
  },
  {
   "cell_type": "markdown",
   "id": "69bf5bfd",
   "metadata": {
    "papermill": {
     "duration": 0.023048,
     "end_time": "2022-07-20T23:47:58.241458",
     "exception": false,
     "start_time": "2022-07-20T23:47:58.218410",
     "status": "completed"
    },
    "tags": []
   },
   "source": [
    "### Best point about population and parent\n",
    "* It was enlightening for me to learn that chromosome is synonymous with parent. \n",
    "* Because in biology, it includes parent chromosomes, so it makes more sense to me that it was `synonymous` with population rather than chromosome.\n",
    "* In mammals, fertilization (sexual reproduction) is defined as the union of two germ cells, egg (female) and sperm (male), whereby the somatic chromosome number is restored and the resulting offspring exhibit characteristics of their parents. \n",
    "\n",
    "\n",
    "* Male and female gametes fuse and recombine inherited traits of the two parents to produce individuals with novel assortments of genes. Sexual reproduction, as opposed to asexual reproduction, a process that gives rise to offspring genetically identical to the parent organism, has great advantages. Consequently, a vast majority of plants and animals have adopted it.\n",
    "\n",
    "[Reference](https://link.springer.com/referenceworkentry/10.1007/3-540-29623-9_3270#Fig1_3270)\n",
    "\n",
    "\n",
    "* When I think of the following as a dictionary from genetic algorithm to biology:\n",
    "    \n",
    "    * Population is male or female\n",
    "    * Parents is gametes\n",
    "        \n",
    "* Although mutations rarely occur during or after fertilization, most of them occur in the meiosis stage with crossing over.\n",
    "###  Real life is not elitist, it is generally randomly. \n",
    "* I must stop thinking with medical knowledge :D\n",
    "\n",
    "\n",
    "\n",
    "![](https://apbionotebook.files.wordpress.com/2014/02/human-life-cycle.jpg)\n",
    "\n",
    "\n",
    "## Parent Selection and Mating Pool in Genetic Algorithms.\n",
    "\n"
   ]
  },
  {
   "cell_type": "code",
   "execution_count": 14,
   "id": "b4ed38be",
   "metadata": {
    "execution": {
     "iopub.execute_input": "2022-07-20T23:47:58.285593Z",
     "iopub.status.busy": "2022-07-20T23:47:58.285197Z",
     "iopub.status.idle": "2022-07-20T23:47:58.292952Z",
     "shell.execute_reply": "2022-07-20T23:47:58.291418Z"
    },
    "papermill": {
     "duration": 0.033348,
     "end_time": "2022-07-20T23:47:58.296615",
     "exception": false,
     "start_time": "2022-07-20T23:47:58.263267",
     "status": "completed"
    },
    "tags": []
   },
   "outputs": [],
   "source": [
    "parent_selection_type = \"tournament\" # Type of parent selection.\n",
    "keep_parents = -1 \n",
    "# Number of parents to keep in the next population. \n",
    "# -1 means keep all parents and 0 means keep nothing.\n",
    "\n",
    "####-sss (for steady state selection)\n",
    "####-rws (for roulette wheel selection)\n",
    "####-sus (for stochastic universal selection)\n",
    "####-rank (for rank selection)\n",
    "####-random (for random selection)\n",
    "####-tournament (for tournament selection),\n",
    "K_tournament=4 # Just tournament\n"
   ]
  },
  {
   "cell_type": "markdown",
   "id": "0e87d8c0",
   "metadata": {
    "papermill": {
     "duration": 0.023004,
     "end_time": "2022-07-20T23:47:58.347659",
     "exception": false,
     "start_time": "2022-07-20T23:47:58.324655",
     "status": "completed"
    },
    "tags": []
   },
   "source": [
    "* Parent Selection is the process of selecting parents which mate and recombine to create off-springs for the next generation. Parent selection is very crucial to the convergence rate of the GA as good parents drive individuals to a better and fitter solutions.\n",
    "\n",
    "* However, care should be taken to prevent one extremely fit solution from taking over the entire population in a few generations, as this leads to the solutions being close to one another in the solution space thereby leading to a loss of diversity. Maintaining good diversity in the population is extremely crucial for the success of a GA. This taking up of the entire population by one extremely fit solution is known as premature convergence and is an undesirable condition in a GA.\n",
    "\n",
    "\n",
    "## Steady-state selection (`sss`, default)\n",
    "* Usually, the run of a genetic algorithm is divided into generations - at each generation, the result of the selection and reproduction process replaces all (or at least most) of the population; only children survive. In a steady state genetic algorithm, however, only a few individuals are replaced at a time, meaning most of the individuals will carry out to the next generation; there is no generation per se.\n",
    "\n",
    "* There are multiple implementations. For example, in one variant, parents are selected using e.g. tournament selection. Then, children and parents are compared (based on the fitness value), and only the best ones are put back in the population.\n",
    "\n",
    "* In another variant, the best chromosomes are selected for reproduction, and their offsprings will replace the worst individuals.\n",
    "\n",
    "* SSS is the only algorithm of this type offered by PyGAD at the time of writing.\n",
    "\n",
    "## Roulette wheel selection (`rws`)\n",
    "* I mentioned [previously](https://www.kaggle.com/code/zzettrkalpakbal/tutorial-of-genetic-algorithm) notebook.\n",
    "* This is a widely used and most efficient method for selecting parents. We all know how the roulette wheel works in casinos, drop the ball, spin the wheel, and wait till the wheel stops to see which pot the ball falls in. \n",
    "![](https://miro.medium.com/max/1400/1*7sMoHK26bY2O-NzZBGqSmw.png)\n",
    "* The only difference between the casino roulette wheel and the roulette wheel method for parent selection is that in the casino roulette wheel, each pot has an equal probability of holding the ball when the wheel stops rotating. However, here we define the probability for each pot(individual of the population). The probability of each individual is called the fitness of the individual.\n",
    "![](https://miro.medium.com/max/1400/0*1KZQfvbi5T2h_rKk.png)\n",
    "* We have four parents P1, P2, P3, and P4, with the probability of being selected for breeding 0.1, 0.2, 0.3, 0.4, respectively. The arrow is fixed at a place, and the wheel is rotated. When the wheel stops rotating, the parent where the arrow points to is chosen for breeding—the greater the probability larger the area on the wheel, leading to a higher probability of being selected.\n",
    "* Now, how do we implement the roulette wheel programmatically? \n",
    "* We open the wheel into a uniform line and divide the line into the number of parents in the population, and each parent occupies the space on the line equal to its probability of being selected, and each cut point is the cumulative sum of probability. Generating a random number between 0 and 1 will act like the arrow that selects the parent for breeding. Here, the random number is 0.28; hence the winner is P2.\n",
    "\n",
    "![](https://miro.medium.com/max/1400/0*RXV2IqV1sT9NapGq.jpeg)\n",
    "\n",
    "* To make it even simpler, we calculate each parent’s probability’s cumulative sum, multiply its sum with a randomly generated number. Then get the index of the first parent whose cumulative value is greater than the random number. For example, P1 has a cumulative value of 0.1, P2 has 0.3, P3 has 0.6, and P4 has 1. If the random number generated is 0.28, then the first parent whose cumulative value is greater than 0.28 is P2 hence the winning parent for breeding. \n",
    "\n",
    "\n",
    "### Stochastic universal sampling selection (`sus`)\n",
    "* SUS is another variant of fitness proportionate selection which exhibits no bias and minimal spread.\n",
    "\n",
    "* The same roulette wheel is used than in RWS, with the same proportions, but instead of using a single selection point and turning the roulette wheel again and again until all needed individuals have been selected, here all the parents are selected at once. For that, the wheel is spun only once, and multiple selection points spaced evenly around the wheel determine which individuals are drawn.\n",
    "\n",
    "![](https://www.tutorialspoint.com/genetic_algorithms/images/sus.jpg)\n",
    "\n",
    "* This gives weaker members of the population (according to their fitness) a chance to be chosen, and also encourages the highly fit to be chosen at least once.\n",
    "\n",
    "* In `rws`, one parent is chosen at a time, so the selection bias of the parent with the highest portion increases each time. I think it protects the model from being overfitted because `sus` will select the parents at once.\n",
    "\n",
    "* It is to be noted that fitness proportionate selection methods don’t work for cases where the fitness can take a negative value.\n",
    "\n",
    "### Tournament selection (`tournament`)\n",
    "* Tournament selection works by selecting `K` (tournament size) individuals randomly (tournament), and pick the fittest of them (the winner) for breeding.\n",
    "\n",
    "* The selection pressure depends on `K`: the largest `K`, the stronger the pressure, as weaker individuals will have more adversaries, and thus a higher chance of losing.\n",
    "\n",
    "* In PyGAD, the tournament size is controlled by the `K_tournament` parameter.\n",
    "    * In case that the parent selection type is tournament, the `K_tournament` specifies the number of parents participating in the tournament selection. It defaults to `3`.\n",
    "\n",
    "* Tournament Selection is also extremely popular in literature as it can even work with negative fitness values.\n",
    "\n",
    "![](https://www.tutorialspoint.com/genetic_algorithms/images/tournament_selection.jpg)\n",
    "\n",
    "### Rank Selection (`rank`)\n",
    "* Rank Selection also works with negative fitness values and is mostly used when the individuals in the population have very close fitness values (this happens usually at the end of the run). This leads to each individual having an almost equal share of the pie (like in case of fitness proportionate selection) as shown in the following image and hence each individual no matter how fit relative to each other has an approximately same probability of getting selected as a parent. This in turn leads to a loss in the selection pressure towards fitter individuals, making the GA to make poor parent selections in such situations.\n",
    "\n",
    "* In this, we remove the concept of a fitness value while selecting a parent. However, every individual in the population is ranked according to their fitness. The selection of the parents depends on the rank of each individual and not the fitness. The higher ranked individuals are preferred more than the lower ranked ones.\n",
    "\n",
    "* That is, we first rank the individuals from highest to `lowest fitness value (i=1..N)`, assign the probabilities of being chosen based on `sum of fitness values / i`, and finally spin the wheel.\n",
    "\n",
    "* Note that this would then be a linear rank selection: the ranks are in a linear progression. There are other schemes of rank selection, for example exponential.\n",
    "\n",
    "![](https://www.tutorialspoint.com/genetic_algorithms/images/rank_selection.jpg)\n",
    "\n",
    "### Random selection (`random`)\n",
    "The name says it all: the parents are randomly selected from the population, irrelevant of their fitness.\n",
    "\n",
    "\n",
    "#### References:\n",
    "[Tutorialspoint](https://www.tutorialspoint.com/genetic_algorithms/genetic_algorithms_parent_selection.htm#:~:text=Parent%20Selection%20is%20the%20process,a%20better%20and%20fitter%20solutions.)\n",
    "\n",
    "\n",
    "[dev.to](https://dev.to/derlin/genetic-algorithms-with-pygad-selection-crossover-mutation-14mn)\n",
    "\n",
    "\n",
    "[pubs.towards.ai](https://pub.towardsai.net/genetic-algorithm-ga-introduction-with-example-code-e59f9bc58eaf)"
   ]
  },
  {
   "cell_type": "markdown",
   "id": "511eb3e5",
   "metadata": {
    "papermill": {
     "duration": 0.021793,
     "end_time": "2022-07-20T23:47:58.392573",
     "exception": false,
     "start_time": "2022-07-20T23:47:58.370780",
     "status": "completed"
    },
    "tags": []
   },
   "source": [
    "## Crossover and mutation\n",
    "\n"
   ]
  },
  {
   "cell_type": "code",
   "execution_count": 15,
   "id": "2ec2589c",
   "metadata": {
    "execution": {
     "iopub.execute_input": "2022-07-20T23:47:58.440241Z",
     "iopub.status.busy": "2022-07-20T23:47:58.439411Z",
     "iopub.status.idle": "2022-07-20T23:47:58.446078Z",
     "shell.execute_reply": "2022-07-20T23:47:58.444842Z"
    },
    "papermill": {
     "duration": 0.037457,
     "end_time": "2022-07-20T23:47:58.451933",
     "exception": false,
     "start_time": "2022-07-20T23:47:58.414476",
     "status": "completed"
    },
    "tags": []
   },
   "outputs": [],
   "source": [
    "crossover_type = \"uniform\" # Type of the crossover operator.\n",
    "\n",
    "####-single_point (for single point crossover)\n",
    "####-two_points (for two points crossover)\n",
    "####-uniform (for uniform crossover)\n",
    "####-scattered (for scattered crossover)\n",
    "\n",
    "crossover_probability= 1 #arange(0,1)"
   ]
  },
  {
   "cell_type": "markdown",
   "id": "3112d025",
   "metadata": {
    "papermill": {
     "duration": 0.025901,
     "end_time": "2022-07-20T23:47:58.504114",
     "exception": false,
     "start_time": "2022-07-20T23:47:58.478213",
     "status": "completed"
    },
    "tags": []
   },
   "source": [
    "## Crossover algorithms\n",
    "* The crossover_type defines how children are generated from the selected parents; in other words, how the reproduction works. At the time of writing, PyGAD supports 4 algorithms:\n",
    "\n",
    "    * 1. crossover_type=\"single_point\": Type of the crossover operation. Supported types are single_point (for single-point crossover), \n",
    "    * 2. two_points (for two points crossover), \n",
    "    * 3. uniform (for uniform crossover) \n",
    "    * 4. scattered (for scattered crossover).\n",
    "\n",
    "### single-point crossover (`single_point`, `default`)\n",
    "* The breeding works by selecting an index randomly (crossover point). All genes to the right of that point are then swapped between the two parent chromosomes. This results in two offsprings, each carrying some genetic information from both parents.\n",
    "![](https://media.geeksforgeeks.org/wp-content/uploads/20190620121215/singleCrossover-2.png)\n",
    "![](https://media.geeksforgeeks.org/wp-content/uploads/20190620121247/singleCrossover1-2.png)\n",
    "\n",
    "### two-points crossover (`two_points`)\n",
    "* `K-point` crossover works the same as single-point crossover, but instead of one crossover point, we have many. PyGAD supports only `K`=2. In this case, the genes in between the two points are swapped between the parents, yielding again two new offsprings.\n",
    "\n",
    "![](https://media.geeksforgeeks.org/wp-content/uploads/20190620121313/twopointCrossover-2.png)\n",
    "![](https://media.geeksforgeeks.org/wp-content/uploads/20190620121338/twopointCrossover1-2.png)\n",
    "\n",
    "### uniform crossover (`uniform`)\n",
    "* In a uniform crossover, we essentially flip a coin to decide wether each gene is left untouched, or taken from the other parent. In other words, each gene is chosen from either parent with equal probability. The technique is repeated for each new child.\n",
    "\n",
    "* Note that in some variants (but not PyGAD), it is possible to bias the coin towards one parent, resulting in children inheriting more from it.\n",
    "\n",
    "![](https://media.geeksforgeeks.org/wp-content/uploads/20190620121403/unifromCrossover-2.png)\n",
    "\n",
    "### scattered crossover (`scattered`)\n",
    "In scattered crossover, a random binary vector the size of the chromosomes is generated.\n",
    "The genes of the new child are taken from one parent when its index in the binary vector equals `0`, and the other parent when it equals `1`.\n",
    "\n",
    "![](https://res.cloudinary.com/practicaldev/image/fetch/s--VA16xe6A--/c_limit%2Cf_auto%2Cfl_progressive%2Cq_auto%2Cw_880/https://www.researchgate.net/profile/Jordi-Roger-Riba/publication/276383889/figure/fig3/AS:391860968280066%401470438343480/Scattered-crossover-representation-when-dealing-with-ten-input-ariables.png)\n",
    "\n",
    "### Crossover probability \n",
    "* `crossover_probability`=None : The probability of selecting a parent for applying the crossover operation. Its value must be between 0.0 and 1.0 inclusive. For each parent, a random value between 0.0 and 1.0 is generated. If this random value is less than or equal to the value assigned to the crossover_probability parameter, then the parent is selected. \n",
    "\n",
    "\n",
    "\n",
    "\n",
    "References:\n",
    "[Geeks](https://www.geeksforgeeks.org/crossover-in-genetic-algorithm/)"
   ]
  },
  {
   "cell_type": "markdown",
   "id": "bebff1a3",
   "metadata": {
    "papermill": {
     "duration": 0.019767,
     "end_time": "2022-07-20T23:47:58.547993",
     "exception": false,
     "start_time": "2022-07-20T23:47:58.528226",
     "status": "completed"
    },
    "tags": []
   },
   "source": [
    "## Mutation types"
   ]
  },
  {
   "cell_type": "code",
   "execution_count": 16,
   "id": "96ac3a0c",
   "metadata": {
    "execution": {
     "iopub.execute_input": "2022-07-20T23:47:58.591795Z",
     "iopub.status.busy": "2022-07-20T23:47:58.590976Z",
     "iopub.status.idle": "2022-07-20T23:47:58.597077Z",
     "shell.execute_reply": "2022-07-20T23:47:58.596080Z"
    },
    "papermill": {
     "duration": 0.031568,
     "end_time": "2022-07-20T23:47:58.599603",
     "exception": false,
     "start_time": "2022-07-20T23:47:58.568035",
     "status": "completed"
    },
    "tags": []
   },
   "outputs": [],
   "source": [
    "mutation_percent_genes = 10 \n",
    "# Percentage of genes to mutate. This parameter has no action if the parameter mutation_num_genes exists.\n",
    "# If you want use to adaptive, you can setting parameter on the ga_instance parameter.\n",
    "# I cant running with my dataset but I added example code for adaptive mutation below.\n",
    "mutation_type = \"random\" # Type of the mutation operator.\n",
    "\n",
    "\n",
    "####-random (for random mutation)\n",
    "####-swap (for swap mutation)\n",
    "####-inversion (for inversion mutation)\n",
    "####-scramble (for scramble mutation)\n",
    "####-adaptive (for adaptive mutation)\n",
    "                    # If you selecting to adaptive paramter you must already usi this below parameters.\n",
    "                    #mutation_probability=mutation_probability,\n",
    "                    #mutation_num_genes=mutation_num_genes"
   ]
  },
  {
   "cell_type": "markdown",
   "id": "200965a7",
   "metadata": {
    "papermill": {
     "duration": 0.022233,
     "end_time": "2022-07-20T23:47:58.642333",
     "exception": false,
     "start_time": "2022-07-20T23:47:58.620100",
     "status": "completed"
    },
    "tags": []
   },
   "source": [
    "* The mutation_types defines the mutation algorithm, that is which transformations are made to the children. It is possible to pass None, meaning no mutation.\n",
    "    * At the time of writing, PyGAD supports 5 algorithms:\n",
    "\n",
    "        * mutation_type= Type of the mutation operation. \n",
    "            * `random` (for random mutation), \n",
    "            * `swap` (for swap mutation), \n",
    "            * `inversion` (for inversion mutation), \n",
    "            * `scramble` (for scramble mutation), \n",
    "            * `adaptive` (for adaptive mutation). \n",
    "            * It defaults to random.\n",
    "* The actual number of mutations applied to each child is controlled by the `mutation_num_genes`/`mutation_probability`/`mutation_percent_genes` parameters.\n",
    "\n",
    "* Here is the gist:\n",
    "\n",
    "    * `random` (default): a random value from the set of permissible values is assigned to a randomly chosen gene;\n",
    "        * `mutation_by_replacement`=False: \n",
    "          * An optional bool parameter. It works only when the selected type of mutation is random (`mutation_type`=\"random\"). In this case, `mutation_by_replacement=True` means replace the gene by the randomly generated value. If `False`, then it has no effect and `random` mutation works by adding the `random` value to the gene. \n",
    "\n",
    "        * `random_mutation_min_val`=-1.0: \n",
    "            * For random mutation, the `random_mutation_min_val` parameter specifies the start value of the range from which a random value is selected to be added to the gene. It defaults to -1. This parameter has no action if `mutation_type` is None.\n",
    "        * `random_mutation_max_val`=1.0: \n",
    "            * For random mutation, the `random_mutation_max_val` parameter specifies the end value of the range from which a `random` value is selected to be added to the gene. It defaults to +1. This parameter has no action if `mutation_type` is None.\n",
    "        * `gene_space`=None: \n",
    "            * It is used to specify the possible values for each gene in case the user wants to restrict the gene values. It is useful if the gene space is restricted to a certain range or to discrete values. It accepts a list, tuple, range, or numpy.ndarray. When all genes have the same global space, specify their values as a list/tuple/range/numpy.ndarray. For example, gene_space = [0.3, 5.2, -4, 8] restricts the gene values to the 4 specified values. If each gene has its own space, then the gene_space parameter can be nested like [[0.4, -5], [0.5, -3.2, 8.2, -9], ...] where the first sublist determines the values for the first gene, the second sublist for the second gene, and so on. If the nested list/tuple has a None value, then the gene’s initial value is selected randomly from the range specified by the 2 parameters `init_range_low` and `init_range_high` and its mutation value is selected `randomly` from the range specified by the 2 parameters `random_mutation_min_val` and `random_mutation_max_val`\n",
    "            \n",
    "            \n",
    "            \n",
    "![](https://media.geeksforgeeks.org/wp-content/uploads/genetic-algorithm2.png)    \n",
    "    "
   ]
  },
  {
   "cell_type": "markdown",
   "id": "868d09a2",
   "metadata": {
    "papermill": {
     "duration": 0.019691,
     "end_time": "2022-07-20T23:47:58.681879",
     "exception": false,
     "start_time": "2022-07-20T23:47:58.662188",
     "status": "completed"
    },
    "tags": []
   },
   "source": [
    "* `swap`: two genes are selected randomly and their values swapped;\n",
    "\n",
    "    \n",
    "![](https://www.researchgate.net/profile/Omayma-El-Majdoubi-2/publication/342712750/figure/fig3/AS:910283321126913@1594039864690/Mutation-operator-The-genetic-algorithm-is-an-evolutionary-metaheuristic-It-is-an.ppm)      "
   ]
  },
  {
   "cell_type": "markdown",
   "id": "7f6af103",
   "metadata": {
    "papermill": {
     "duration": 0.01978,
     "end_time": "2022-07-20T23:47:58.721960",
     "exception": false,
     "start_time": "2022-07-20T23:47:58.702180",
     "status": "completed"
    },
    "tags": []
   },
   "source": [
    "* `inversion`: a consecutive sequence of genes is selected, and their values reversed;\n",
    "\n",
    "\n",
    "\n",
    "<a ><img src=\"https://i.ibb.co/NCZd34J/Inversion-mutation-operator-413-Hybrid-Bees-Algorithm-The-bees-algorithm-BA-is-a.jpg\" alt=\"Inversion-mutation-operator-413-Hybrid-Bees-Algorithm-The-bees-algorithm-BA-is-a\" border=\"0\"></a>"
   ]
  },
  {
   "cell_type": "markdown",
   "id": "585e0610",
   "metadata": {
    "papermill": {
     "duration": 0.020385,
     "end_time": "2022-07-20T23:47:58.762352",
     "exception": false,
     "start_time": "2022-07-20T23:47:58.741967",
     "status": "completed"
    },
    "tags": []
   },
   "source": [
    "* `scramble`: as for inversion, a consecutive sequence of genes is selected, but this time their values are randomly shuffled;\n",
    "\n",
    "\n",
    "![](https://www.researchgate.net/publication/329265512/figure/fig11/AS:941473017118758@1601476067356/Scramble-mutation-for-scheduling-the-jobs_W640.jpg)\n"
   ]
  },
  {
   "cell_type": "markdown",
   "id": "82183d66",
   "metadata": {
    "papermill": {
     "duration": 0.019849,
     "end_time": "2022-07-20T23:47:58.802954",
     "exception": false,
     "start_time": "2022-07-20T23:47:58.783105",
     "status": "completed"
    },
    "tags": []
   },
   "source": [
    "### Adaptive mutation\n",
    "\n",
    "* `adaptive`: apply a number of random mutations relative to the fitness of the individual. That is, children with a high fitness value will undergo less mutations than children with low fitness values. The actual variations are under your control, by specifying a lower and upper bound instead of a single value for `mutation_num_genes`/`mutation_probability`/`mutation_percent_genes`. The idea behind it is straight-forward: altering good chromosomes has a high chance of degrading them, and vice-versa.\n",
    "\n",
    "    * `mutation_probability`=None:\n",
    "    \n",
    "        * The probability of selecting a gene for applying the mutation operation. Its value must be between 0.0 and 1.0 inclusive. For each gene in a solution, a random value between 0.0 and 1.0 is generated. If this random value is less than or equal to the value assigned to the mutation_probability parameter, then the gene is selected. If this parameter exists, then there is no need for the 2 parameters `mutation_percent_genes` and `mutation_num_genes`.\n",
    "        \n",
    "    * `mutation_percent_genes`=\"default\": \n",
    "    \n",
    "         * Percentage of genes to mutate. It defaults to the string `\"default\"` which is later translated into the integer `10 which means 10%` of the genes will be mutated. `It must be >0 and <=100.` Out of this percentage, the number of genes to mutate is deduced which is assigned to the `mutation_num_genes parameter`. `The mutation_percent_genes` parameter has no action if `mutation_probability or mutation_num_genes exist`. \n",
    "         \n",
    "     * `mutation_num_genes`=None: \n",
    "     \n",
    "         *  Number of genes to mutate which defaults to None meaning that no number is specified. The `mutation_num_genes parameter` has no action if the parameter `mutation_probability` exists. \n",
    "         \n",
    "* When `adaptive` mutation is used, then the value assigned to any of the 3 parameters can be of any of these data types:\n",
    "    * `list`\n",
    "    \n",
    "    * `tuple`\n",
    "    \n",
    "    * `numpy.ndarray`\n",
    "\n",
    "* Whatever the data type used, the length of the `list`, `tuple`, or the `numpy.ndarray` must be exactly `2`. That is there are just 2 values:\n",
    "    * 1. The first value is the mutation rate for the low-quality solutions.\n",
    "    * 2. The second value is the mutation rate for the low-quality solutions.\n",
    "        * PyGAD expects that the first value is higher than the second value and thus a warning is printed in case the first value is lower than the second one.\n",
    "            \n",
    "            * `mutation_probability = [0.25, 0.1] or (0.35, 0.17) or numpy.array([0.15, 0.05])`\n",
    "            \n",
    "            * `mutation_num_genes = [4, 2] or (3, 1) or  numpy.array([7, 2])`\n",
    "            \n",
    "            * `mutation_percent_genes = [25, 12] or (15, 8) or numpy.array([21, 13])`\n",
    "\n",
    "* Assume that the average fitness is 12 and the fitness values of 2 solutions are 15 and 7. If the mutation probabilities are specified as follows:\n",
    "    *  `mutation_probability = [0.25, 0.1]`\n",
    "\n",
    "    * Then the mutation probability of the first solution is 0.1 because its fitness is 15 which is higher than the average fitness 12. The mutation probability of the second solution is 0.25 because its fitness is 7 which is lower than the average fitness 12.\n",
    "        * *for mor information: https://pygad.readthedocs.io/en/latest/README_pygad_ReadTheDocs.html#use-adaptive-mutation-in-pygad*\n",
    "\n"
   ]
  },
  {
   "cell_type": "code",
   "execution_count": 17,
   "id": "d68fef46",
   "metadata": {
    "execution": {
     "iopub.execute_input": "2022-07-20T23:47:58.848542Z",
     "iopub.status.busy": "2022-07-20T23:47:58.847686Z",
     "iopub.status.idle": "2022-07-20T23:53:00.081745Z",
     "shell.execute_reply": "2022-07-20T23:53:00.080146Z"
    },
    "papermill": {
     "duration": 301.260757,
     "end_time": "2022-07-20T23:53:00.084799",
     "exception": false,
     "start_time": "2022-07-20T23:47:58.824042",
     "status": "completed"
    },
    "tags": []
   },
   "outputs": [
    {
     "name": "stderr",
     "output_type": "stream",
     "text": [
      "/opt/conda/lib/python3.7/site-packages/pygad/nn/nn.py:156: RuntimeWarning: overflow encountered in exp\n",
      "  return 1.0 / (1 + numpy.exp(-1 * sop))\n"
     ]
    },
    {
     "name": "stdout",
     "output_type": "stream",
     "text": [
      "Generation = 100\n",
      "Fitness    = 85.12396694214877\n",
      "Change     = 0.0\n",
      "Generation = 200\n",
      "Fitness    = 85.53719008264463\n",
      "Change     = 0.41322314049585884\n",
      "Generation = 300\n",
      "Fitness    = 88.42975206611571\n",
      "Change     = 0.0\n",
      "Generation = 400\n",
      "Fitness    = 90.08264462809917\n",
      "Change     = 0.0\n",
      "Generation = 500\n",
      "Fitness    = 88.84297520661157\n",
      "Change     = 0.0\n",
      "Generation = 600\n",
      "Fitness    = 89.6694214876033\n",
      "Change     = 0.0\n",
      "Generation = 700\n",
      "Fitness    = 88.84297520661157\n",
      "Change     = 0.0\n",
      "Generation = 800\n",
      "Fitness    = 89.6694214876033\n",
      "Change     = 0.0\n",
      "Generation = 900\n",
      "Fitness    = 90.49586776859503\n",
      "Change     = 0.0\n",
      "Generation = 1000\n",
      "Fitness    = 90.08264462809917\n",
      "Change     = 0.0\n"
     ]
    },
    {
     "data": {
      "image/png": "[encoded data removed]",
      "text/plain": [
       "<Figure size 432x288 with 1 Axes>"
      ]
     },
     "metadata": {},
     "output_type": "display_data"
    },
    {
     "name": "stdout",
     "output_type": "stream",
     "text": [
      "Fitness value of the best solution = 90.08264462809917\n",
      "Index of the best solution : 0\n",
      "Best fitness value reached after 944 generations.\n"
     ]
    }
   ],
   "source": [
    "verbose = 100\n",
    "ga_instance = pygad.GA(num_generations=num_generations,\n",
    "                       num_parents_mating=num_parents_mating,\n",
    "                       initial_population=initial_population,\n",
    "                       fitness_func=fitness_func,\n",
    "                       # mutation_percent_genes=mutation_percent_genes,\n",
    "                       # When the set adaptive mutation\n",
    "                       #mutation_percent_genes= (25,12),\n",
    "                       #mutation_probability=(0.35,0.12),\n",
    "                       #mutation_num_genes=(4,2),\n",
    "                       #sol_per_pop=20,\n",
    "                       #num_genes=len(array_X),\n",
    "                       # When the set tournament selection\n",
    "                       K_tournament=K_tournament,\n",
    "                       parent_selection_type=parent_selection_type,\n",
    "                       crossover_probability=crossover_probability,\n",
    "                       crossover_type=crossover_type,\n",
    "                       mutation_type=mutation_type,\n",
    "                       keep_parents=keep_parents,\n",
    "                       on_generation=callback_generation)\n",
    "\n",
    "\n",
    "# By calling the run() method from the pygad.GA instance, \n",
    "# the genetic algorithm will iterate through the number of generations specified in its num_generations parameter.\n",
    "ga_instance.run()\n",
    "\n",
    "#Plot the Fitness Values\n",
    "#After the run() method completes, the plot_fitness() method can be called to show how the fitness values evolve by generation. \n",
    "# A fitness value (i.e. accuracy) of 100 is reached after around 180 generations.\n",
    "# After the generations complete, some plots are showed that summarize how the outputs/fitness values evolve over generations.\n",
    "ga_instance.plot_fitness()\n",
    "\n",
    "# Returning the details of the best solution.\n",
    "solution, solution_fitness, solution_idx = ga_instance.best_solution()\n",
    "#print(\"Parameters of the best solution : {solution}\".format(solution=solution))\n",
    "print(\"Fitness value of the best solution = {solution_fitness}\".format(solution_fitness=solution_fitness))\n",
    "print(\"Index of the best solution : {solution_idx}\".format(solution_idx=solution_idx))\n",
    "\n",
    "if ga_instance.best_solution_generation != -1:\n",
    "    print(\"Best fitness value reached after {best_solution_generation} generations.\".format(best_solution_generation=ga_instance.best_solution_generation))\n",
    "\n",
    "# Predicting the outputs of the data using the best solution.\n",
    "predictions = pygad.nn.predict(last_layer=GANN_instance.population_networks[solution_idx],\n",
    "                               data_inputs=data_inputs)\n",
    "#print(\"Predictions of the trained network : {predictions}\".format(predictions=predictions))"
   ]
  },
  {
   "cell_type": "markdown",
   "id": "657b3bd0",
   "metadata": {
    "papermill": {
     "duration": 0.02129,
     "end_time": "2022-07-20T23:53:00.127909",
     "exception": false,
     "start_time": "2022-07-20T23:53:00.106619",
     "status": "completed"
    },
    "tags": []
   },
   "source": [
    "## Calculating Some Statistics\n",
    "Based on the predictions the network made, some statistics can be calculated such as the number of correct and wrong predictions in addition to the classification accuracy."
   ]
  },
  {
   "cell_type": "code",
   "execution_count": 18,
   "id": "bb1fc1bb",
   "metadata": {
    "execution": {
     "iopub.execute_input": "2022-07-20T23:53:00.173925Z",
     "iopub.status.busy": "2022-07-20T23:53:00.173385Z",
     "iopub.status.idle": "2022-07-20T23:53:00.182409Z",
     "shell.execute_reply": "2022-07-20T23:53:00.181107Z"
    },
    "papermill": {
     "duration": 0.034755,
     "end_time": "2022-07-20T23:53:00.185038",
     "exception": false,
     "start_time": "2022-07-20T23:53:00.150283",
     "status": "completed"
    },
    "tags": []
   },
   "outputs": [
    {
     "name": "stdout",
     "output_type": "stream",
     "text": [
      "Number of correct classifications : 218.\n",
      "Number of wrong classifications : 24.\n",
      "Classification accuracy : 90.08264462809917.\n"
     ]
    }
   ],
   "source": [
    "# Calculating some statistics\n",
    "num_wrong = numpy.where(predictions != data_outputs)[0]\n",
    "num_correct = data_outputs.size - num_wrong.size\n",
    "accuracy = 100 * (num_correct/data_outputs.size)\n",
    "print(\"Number of correct classifications : {num_correct}.\".format(num_correct=num_correct))\n",
    "print(\"Number of wrong classifications : {num_wrong}.\".format(num_wrong=num_wrong.size))\n",
    "print(\"Classification accuracy : {accuracy}.\".format(accuracy=accuracy))"
   ]
  },
  {
   "cell_type": "code",
   "execution_count": 19,
   "id": "b2c345cf",
   "metadata": {
    "execution": {
     "iopub.execute_input": "2022-07-20T23:53:00.231507Z",
     "iopub.status.busy": "2022-07-20T23:53:00.231122Z",
     "iopub.status.idle": "2022-07-20T23:53:00.266274Z",
     "shell.execute_reply": "2022-07-20T23:53:00.264445Z"
    },
    "papermill": {
     "duration": 0.062115,
     "end_time": "2022-07-20T23:53:00.269475",
     "exception": false,
     "start_time": "2022-07-20T23:53:00.207360",
     "status": "completed"
    },
    "tags": []
   },
   "outputs": [
    {
     "name": "stdout",
     "output_type": "stream",
     "text": [
      "Train Accuracy score: 0.9008\n",
      "Train ROC AUC score: 0.8992\n",
      "Test Accuracy score: 0.6885\n",
      "Test ROC-AUC score: 0.6797\n",
      "[[16 12]\n",
      " [ 7 26]]\n",
      "              precision    recall  f1-score   support\n",
      "\n",
      "           0       0.70      0.57      0.63        28\n",
      "           1       0.68      0.79      0.73        33\n",
      "\n",
      "    accuracy                           0.69        61\n",
      "   macro avg       0.69      0.68      0.68        61\n",
      "weighted avg       0.69      0.69      0.68        61\n",
      "\n"
     ]
    }
   ],
   "source": [
    "y_pred_tr = pygad.nn.predict(last_layer=GANN_instance.population_networks[solution_idx],\n",
    "                               data_inputs=X_train)\n",
    "y_pred_ts = pygad.nn.predict(last_layer=GANN_instance.population_networks[solution_idx],\n",
    "                               data_inputs=X_test)\n",
    "\n",
    "\n",
    "print('Train Accuracy score: {0:0.4f}'.format(accuracy_score(y_train, y_pred_tr)))\n",
    "print('Train ROC AUC score: {0:0.4f}'.format(roc_auc_score(y_train, y_pred_tr)))\n",
    "print('Test Accuracy score: {0:0.4f}'.format(accuracy_score(y_test, y_pred_ts)))\n",
    "print('Test ROC-AUC score: {0:0.4f}'.format(roc_auc_score(y_test, y_pred_ts)))\n",
    "print(confusion_matrix(y_test,y_pred_ts))\n",
    "print(classification_report(y_test,y_pred_ts))"
   ]
  },
  {
   "cell_type": "markdown",
   "id": "e30c675b",
   "metadata": {
    "papermill": {
     "duration": 0.021998,
     "end_time": "2022-07-20T23:53:00.313259",
     "exception": false,
     "start_time": "2022-07-20T23:53:00.291261",
     "status": "completed"
    },
    "tags": []
   },
   "source": [
    "## PyGAD: \n",
    "* Train Accuracy score: 0.8967\n",
    "* Train ROC AUC score: 0.8955\n",
    "* Test Accuracy score: 0.8033\n",
    "* Test ROC-AUC score: 0.7992\n",
    "\n",
    "## Keras:\n",
    "* Train Accuracy score: 0.90\n",
    "* Train ROC AUC score: 0.90\n",
    "* Test Accuracy score: 0.75\n",
    "* Test ROC-AUC score: 0.746\n",
    "\n",
    "\n",
    "\n",
    "### Summary\n",
    "* Maybe I could preprocess the data.\n",
    "* Maybe I could use bigger data.\n",
    "* I could try a different optimizer for Keras. Well then, we could further optimize the genetic algorithm. :D\n",
    "* My goal here was to create a tutorial. Thank you if you've read this far. Thanks to [Ahmed Fawzy GAD](https://www.linkedin.com/in/ahmedfgad/) for developing this library myself.\n",
    "* See you in different notebooks."
   ]
  },
  {
   "cell_type": "markdown",
   "id": "1e906f93",
   "metadata": {
    "papermill": {
     "duration": 0.021458,
     "end_time": "2022-07-20T23:53:00.356865",
     "exception": false,
     "start_time": "2022-07-20T23:53:00.335407",
     "status": "completed"
    },
    "tags": []
   },
   "source": [
    "## Adaptive mutation example"
   ]
  },
  {
   "cell_type": "code",
   "execution_count": 20,
   "id": "abb38b3a",
   "metadata": {
    "execution": {
     "iopub.execute_input": "2022-07-20T23:53:00.403965Z",
     "iopub.status.busy": "2022-07-20T23:53:00.402900Z",
     "iopub.status.idle": "2022-07-20T23:53:08.877553Z",
     "shell.execute_reply": "2022-07-20T23:53:08.876279Z"
    },
    "papermill": {
     "duration": 8.500709,
     "end_time": "2022-07-20T23:53:08.880180",
     "exception": false,
     "start_time": "2022-07-20T23:53:00.379471",
     "status": "completed"
    },
    "tags": []
   },
   "outputs": [
    {
     "data": {
      "image/png": "[encoded data removed]",
      "text/plain": [
       "<Figure size 432x288 with 1 Axes>"
      ]
     },
     "metadata": {},
     "output_type": "display_data"
    },
    {
     "name": "stdout",
     "output_type": "stream",
     "text": [
      "CPU times: user 8.44 s, sys: 167 ms, total: 8.61 s\n",
      "Wall time: 8.36 s\n"
     ]
    },
    {
     "data": {
      "image/png": "[encoded data removed]",
      "text/plain": [
       "<Figure size 432x288 with 1 Axes>"
      ]
     },
     "execution_count": 20,
     "metadata": {},
     "output_type": "execute_result"
    }
   ],
   "source": [
    "%%time\n",
    "import pygad\n",
    "import numpy\n",
    "\n",
    "function_inputs = np.random.randn(40) # Function inputs.\n",
    "desired_output = 44 # Function output.\n",
    "\n",
    "def fitness_func_adaptive(solution, solution_idx):\n",
    "    # The fitness function calulates the sum of products between each input and its corresponding weight.\n",
    "    output = numpy.sum(solution*function_inputs)\n",
    "    # The value 0.000001 is used to avoid the Inf value when the denominator numpy.abs(output - desired_output) is 0.0.\n",
    "    fitness = 1.0 / (numpy.abs(output - desired_output) + 0.000001)\n",
    "    return fitness\n",
    "\n",
    "# Creating an instance of the GA class inside the ga module. Some parameters are initialized within the constructor.\n",
    "ga_instance = pygad.GA(num_generations=200,\n",
    "                       fitness_func=fitness_func_adaptive,\n",
    "                       num_parents_mating=10,\n",
    "                       mutation_percent_genes= (25,12),\n",
    "                       mutation_probability=(0.35,0.12),\n",
    "                       mutation_num_genes=(4,2),\n",
    "                       sol_per_pop=200,\n",
    "                       num_genes=len(function_inputs),\n",
    "                       mutation_type=\"adaptive\")\n",
    "\n",
    "# Running the GA to optimize the parameters of the function.\n",
    "ga_instance.run()\n",
    "\n",
    "ga_instance.plot_fitness(title=\"PyGAD with Adaptive Mutation\", linewidth=5)"
   ]
  },
  {
   "cell_type": "code",
   "execution_count": 21,
   "id": "ced06101",
   "metadata": {
    "execution": {
     "iopub.execute_input": "2022-07-20T23:53:08.928844Z",
     "iopub.status.busy": "2022-07-20T23:53:08.927998Z",
     "iopub.status.idle": "2022-07-20T23:53:13.662548Z",
     "shell.execute_reply": "2022-07-20T23:53:13.660854Z"
    },
    "papermill": {
     "duration": 4.762274,
     "end_time": "2022-07-20T23:53:13.665297",
     "exception": false,
     "start_time": "2022-07-20T23:53:08.903023",
     "status": "completed"
    },
    "tags": []
   },
   "outputs": [
    {
     "data": {
      "image/png": "[encoded data removed]",
      "text/plain": [
       "<Figure size 432x288 with 1 Axes>"
      ]
     },
     "metadata": {},
     "output_type": "display_data"
    },
    {
     "name": "stdout",
     "output_type": "stream",
     "text": [
      "CPU times: user 4.71 s, sys: 159 ms, total: 4.87 s\n",
      "Wall time: 4.62 s\n"
     ]
    },
    {
     "data": {
      "image/png": "[encoded data removed]",
      "text/plain": [
       "<Figure size 432x288 with 1 Axes>"
      ]
     },
     "execution_count": 21,
     "metadata": {},
     "output_type": "execute_result"
    }
   ],
   "source": [
    "%%time\n",
    "ga_instance = pygad.GA(num_generations=200,\n",
    "                       fitness_func=fitness_func_adaptive,\n",
    "                       num_parents_mating=10,\n",
    "                       mutation_percent_genes= 10,\n",
    "                       sol_per_pop=200,\n",
    "                       num_genes=len(function_inputs),\n",
    "                       mutation_type=\"random\")\n",
    "\n",
    "# Running the GA to optimize the parameters of the function.\n",
    "ga_instance.run()\n",
    "\n",
    "ga_instance.plot_fitness(title=\"PyGAD with Adaptive Mutation\", linewidth=5)"
   ]
  },
  {
   "cell_type": "markdown",
   "id": "0ea89e50",
   "metadata": {
    "papermill": {
     "duration": 0.024205,
     "end_time": "2022-07-20T23:53:13.714547",
     "exception": false,
     "start_time": "2022-07-20T23:53:13.690342",
     "status": "completed"
    },
    "tags": []
   },
   "source": [
    "[Other informative pages](https://www.generativedesign.org/02-deeper-dive/02-04_genetic-algorithms)"
   ]
  }
 ],
 "metadata": {
  "kernelspec": {
   "display_name": "Python 3",
   "language": "python",
   "name": "python3"
  },
  "language_info": {
   "codemirror_mode": {
    "name": "ipython",
    "version": 3
   },
   "file_extension": ".py",
   "mimetype": "text/x-python",
   "name": "python",
   "nbconvert_exporter": "python",
   "pygments_lexer": "ipython3",
   "version": "3.7.12"
  },
  "papermill": {
   "default_parameters": {},
   "duration": 378.157207,
   "end_time": "2022-07-20T23:53:16.937364",
   "environment_variables": {},
   "exception": null,
   "input_path": "__notebook__.ipynb",
   "output_path": "__notebook__.ipynb",
   "parameters": {},
   "start_time": "2022-07-20T23:46:58.780157",
   "version": "2.3.4"
  }
 },
 "nbformat": 4,
 "nbformat_minor": 5
}
